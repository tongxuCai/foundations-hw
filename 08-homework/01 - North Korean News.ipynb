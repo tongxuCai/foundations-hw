{
 "cells": [
  {
   "cell_type": "markdown",
   "metadata": {},
   "source": [
    "# North Korean News\n",
    "\n",
    "Scrape the North Korean news agency http://kcna.kp\n",
    "\n",
    "Save a CSV called `nk-news.csv`. This file should include:\n",
    "\n",
    "* The **article headline**\n",
    "* The value of **`onclick`** (they don't have normal links)\n",
    "* The **article ID** (for example, the article ID for `fn_showArticle(\"AR0125885\", \"\", \"NT00\", \"L\")` is `AR0125885`\n",
    "\n",
    "The last part is easiest using pandas. Be sure you don't save the index!\n",
    "\n",
    "* _**Tip:** If you're using requests+BeautifulSoup, you can always look at response.text to see if the page looks like what you think it looks like_\n",
    "* _**Tip:** Check your URL to make sure it is what you think it should be!_\n",
    "* _**Tip:** Does it look different if you scrape with BeautifulSoup compared to if you scrape it with Selenium?_\n",
    "* _**Tip:** For the last part, how do you pull out part of a string from a longer string?_\n",
    "* _**Tip:** `expand=False` is helpful if you want to assign a single new column when extracting_\n",
    "* _**Tip:** `(` and `)` mean something special in regular expressions, so you have to say \"no really seriously I mean `(`\" by using `\\(` instead_\n",
    "* _**Tip:** if your `.*` is taking up too much stuff, you can try `.*?` instead, which instead of \"take as much as possible\" it means \"take only as much as needed\"_"
   ]
  },
  {
   "cell_type": "code",
   "execution_count": 6,
   "metadata": {},
   "outputs": [],
   "source": [
    "import requests\n",
    "from bs4 import BeautifulSoup "
   ]
  },
  {
   "cell_type": "code",
   "execution_count": 15,
   "metadata": {},
   "outputs": [],
   "source": [
    "url='http://kcna.kp/kcna.user.home.retrieveHomeInfoList.kcmsf'\n",
    "response=requests.get(url)\n",
    "doc=BeautifulSoup(response.text)"
   ]
  },
  {
   "cell_type": "code",
   "execution_count": 24,
   "metadata": {},
   "outputs": [
    {
     "name": "stdout",
     "output_type": "stream",
     "text": [
      "\n",
      "김정은동지께서 김대중 전 대통령의 부인 리희호녀사의 유가족들에게 조의문을 보내시였다\n",
      "\n",
      "경애하는 최고령도자 김정은동지께서 김대중 전 대통령의 부인 리희호녀사의 유가족들에게 조의문과 조화를 보내시였다 \n",
      "\n",
      "김정은동지께서 로씨야대통령에게 축전을 보내시였다\n",
      "\n",
      "경애하는 최고령도자 김정은동지께서 조선인민군 제2기 제7차 군인가족예술소조경연에서 당선된 군부대들의 군인가족예술소조원들과 기념사진을 찍으시였다 \n",
      "\n",
      "김정은동지께서 꾸바공산당 중앙위원회 제1비서에게 축전을 보내시였다\n",
      "\n",
      "대집단체조와 예술공연 《인민의 나라》 개막 \n",
      "\n",
      "조국통일연구원 상보\n",
      "\n",
      "조선민주주의인민공화국 조국평화통일위원회 통일선전국 고발장\n",
      "\n",
      "파멸의 운명에 처한자들의 부질없는 대결광증--조선중앙통신사 론평\n",
      "\n",
      "반제민전 중앙위원회 전국민이 일치단합하여 보수적페세력들을 척결하고 항쟁용사들이 바라던 념원을 성취하자고 호소\n",
      "\n",
      "거세찬 역풍을 몰아오는 《북풍몰이》--조선중앙통신사 론평\n",
      "\n",
      "최룡해동지 세이쉘공화국 국경절을 축하\n",
      "\n",
      "6.12조미공동성명채택 1돐에 즈음하여 로씨야,알제리인사 담화 발표\n",
      "\n",
      "김일성주석회고위원회 쿠웨이트에서 결성\n",
      "\n",
      "김일성주석회고 수리아통일사회주의자당위원회 결성\n",
      "\n",
      "김정은동지께 베네수엘라 까라보보주 나구아나구아시가 최고훈장을 수여해드리였다\n",
      "\n",
      "중국공산당 중앙위원회 총서기,중화인민공화국 주석 습근평동지가 조선을 방문한다\n",
      "\n",
      "조선에서 적십자활동 활발 \n",
      "\n",
      "평양국제건강 및 의료기구부문 과학기술전시회 개막  \n",
      "\n",
      "사회적진보와 발전을 위하여\n",
      "\n",
      "남조선단체들 민족분렬을 끝장내기 위한 투쟁에 나설것을 호소\n",
      "\n",
      "김일성동지와 김정일동지의 동상을 찾아 재일조선고급학교 학생조국방문단들 경모의 정 표시\n",
      "\n",
      "김일성동지와 김정일동지의 동상을 찾아 재일동포조국방문단 경모의 정 표시\n",
      "\n",
      "총련의 방문단들 도착\n",
      "\n",
      "국제고려인통일련합회 잡지 《통일》 2019년 4-5월호 발행\n",
      "\n",
      "재일조선고급학교 학생조국방문단이 떠나갔다\n",
      "\n",
      "세계급혈자의 날에 즈음한 행사 진행  \n",
      "\n",
      "조선에서 적십자활동 활발 \n",
      "\n",
      "평양국제건강 및 의료기구부문 과학기술전시회 개막  \n",
      "\n",
      "재능있는 건축인재들을 육성 \n"
     ]
    }
   ],
   "source": [
    "headlines=doc.find_all('h3')\n",
    "for headline in headlines:\n",
    "    print(headline.text)"
   ]
  },
  {
   "cell_type": "code",
   "execution_count": 41,
   "metadata": {},
   "outputs": [
    {
     "name": "stdout",
     "output_type": "stream",
     "text": [
      "fn_showArticle(\"AR0126135\", \"\", \"NT00\", \"L\")\n",
      "fn_showArticle(\"AR0126133\", \"\", \"NT00\", \"L\")\n",
      "fn_showArticle(\"AR0126098\", \"\", \"NT00\", \"L\")\n",
      "fn_showArticle(\"AR0125885\", \"\", \"NT00\", \"L\")\n",
      "fn_showArticle(\"AR0125876\", \"\", \"NT00\", \"L\")\n",
      "fn_showArticle(\"AR0125856\", \"\", \"NT00\", \"L\")\n",
      "fn_showArticle(\"AR0125916\", \"\", \"NT04\", \"L\")\n",
      "fn_showArticle(\"AR0125556\", \"\", \"NT04\", \"L\")\n",
      "fn_showArticle(\"AR0125472\", \"\", \"NT04\", \"L\")\n",
      "fn_showArticle(\"AR0125350\", \"\", \"NT04\", \"L\")\n",
      "fn_showArticle(\"AR0125232\", \"\", \"NT04\", \"L\")\n",
      "fn_showArticle(\"AR0126295\", \"\", \"NT03\", \"L\")\n",
      "fn_showArticle(\"AR0126290\", \"\", \"NT03\", \"L\")\n",
      "fn_showArticle(\"AR0126289\", \"\", \"NT03\", \"L\")\n",
      "fn_showArticle(\"AR0126288\", \"\", \"NT03\", \"L\")\n",
      "fn_showArticle(\"AR0126287\", \"\", \"NT03\", \"L\")\n",
      "fn_showArticle(\"AR0126286\", \"\", \"NT03\", \"L\")\n",
      "fn_showArticle(\"AR0126284\", \"\", \"NT03\", \"L\")\n",
      "fn_showArticle(\"AR0126283\", \"\", \"NT03\", \"L\")\n",
      "fn_showArticle(\"AR0126311\", \"\", \"NT06\", \"L\")\n",
      "fn_showArticle(\"AR0126309\", \"\", \"NT02\", \"L\")\n",
      "fn_showArticle(\"AR0126193\", \"\", \"NT05\", \"L\")\n",
      "fn_showArticle(\"AR0126164\", \"\", \"NT05\", \"L\")\n",
      "fn_showArticle(\"AR0126162\", \"\", \"NT05\", \"L\")\n",
      "fn_showArticle(\"AR0126154\", \"\", \"NT05\", \"L\")\n",
      "fn_showArticle(\"AR0126153\", \"\", \"NT05\", \"L\")\n",
      "fn_showArticle(\"AR0126159\", \"\", \"NT10\", \"L\")\n",
      "fn_showArticle(\"AR0126284\", \"\", \"NT10\", \"L\")\n",
      "fn_showArticle(\"AR0126283\", \"\", \"NT10\", \"L\")\n",
      "fn_showArticle(\"AR0126237\", \"\", \"NT10\", \"L\")\n"
     ]
    }
   ],
   "source": [
    "for headline in headlines:\n",
    "    print(headline.find('a').attrs['onclick'])"
   ]
  },
  {
   "cell_type": "code",
   "execution_count": 46,
   "metadata": {},
   "outputs": [
    {
     "name": "stdout",
     "output_type": "stream",
     "text": [
      "AR0126135\n",
      "AR0126133\n",
      "AR0126098\n",
      "AR0125885\n",
      "AR0125876\n",
      "AR0125856\n",
      "AR0125916\n",
      "AR0125556\n",
      "AR0125472\n",
      "AR0125350\n",
      "AR0125232\n",
      "AR0126295\n",
      "AR0126290\n",
      "AR0126289\n",
      "AR0126288\n",
      "AR0126287\n",
      "AR0126286\n",
      "AR0126284\n",
      "AR0126283\n",
      "AR0126311\n",
      "AR0126309\n",
      "AR0126193\n",
      "AR0126164\n",
      "AR0126162\n",
      "AR0126154\n",
      "AR0126153\n",
      "AR0126159\n",
      "AR0126284\n",
      "AR0126283\n",
      "AR0126237\n"
     ]
    }
   ],
   "source": [
    "for headline in headlines:\n",
    "    print(headline.find('a').attrs['onclick'][16:25])"
   ]
  },
  {
   "cell_type": "code",
   "execution_count": 55,
   "metadata": {},
   "outputs": [
    {
     "name": "stdout",
     "output_type": "stream",
     "text": [
      "{'Headline': '\\n김정은동지께서 김대중 전 대통령의 부인 리희호녀사의 유가족들에게 조의문을 보내시였다', 'ArticleID': 'AR0126135'}\n",
      "{'Headline': '\\n경애하는 최고령도자 김정은동지께서 김대중 전 대통령의 부인 리희호녀사의 유가족들에게 조의문과 조화를 보내시였다\\xa0', 'ArticleID': 'AR0126133'}\n",
      "{'Headline': '\\n김정은동지께서 로씨야대통령에게 축전을 보내시였다', 'ArticleID': 'AR0126098'}\n",
      "{'Headline': '\\n경애하는 최고령도자 김정은동지께서 조선인민군 제2기 제7차 군인가족예술소조경연에서 당선된 군부대들의 군인가족예술소조원들과 기념사진을 찍으시였다\\xa0', 'ArticleID': 'AR0125885'}\n",
      "{'Headline': '\\n김정은동지께서 꾸바공산당 중앙위원회 제1비서에게 축전을 보내시였다', 'ArticleID': 'AR0125876'}\n",
      "{'Headline': '\\n대집단체조와 예술공연 《인민의 나라》 개막\\xa0', 'ArticleID': 'AR0125856'}\n",
      "{'Headline': '\\n조국통일연구원 상보', 'ArticleID': 'AR0125916'}\n",
      "{'Headline': '\\n조선민주주의인민공화국 조국평화통일위원회 통일선전국 고발장', 'ArticleID': 'AR0125556'}\n",
      "{'Headline': '\\n파멸의 운명에 처한자들의 부질없는 대결광증--조선중앙통신사 론평', 'ArticleID': 'AR0125472'}\n",
      "{'Headline': '\\n반제민전 중앙위원회 전국민이 일치단합하여 보수적페세력들을 척결하고 항쟁용사들이 바라던 념원을 성취하자고 호소', 'ArticleID': 'AR0125350'}\n",
      "{'Headline': '\\n거세찬 역풍을 몰아오는 《북풍몰이》--조선중앙통신사 론평', 'ArticleID': 'AR0125232'}\n",
      "{'Headline': '\\n최룡해동지 세이쉘공화국 국경절을 축하', 'ArticleID': 'AR0126295'}\n",
      "{'Headline': '\\n6.12조미공동성명채택 1돐에 즈음하여 로씨야,알제리인사 담화 발표', 'ArticleID': 'AR0126290'}\n",
      "{'Headline': '\\n김일성주석회고위원회 쿠웨이트에서 결성', 'ArticleID': 'AR0126289'}\n",
      "{'Headline': '\\n김일성주석회고 수리아통일사회주의자당위원회 결성', 'ArticleID': 'AR0126288'}\n",
      "{'Headline': '\\n김정은동지께 베네수엘라 까라보보주 나구아나구아시가 최고훈장을 수여해드리였다', 'ArticleID': 'AR0126287'}\n",
      "{'Headline': '\\n중국공산당 중앙위원회 총서기,중화인민공화국 주석 습근평동지가 조선을 방문한다', 'ArticleID': 'AR0126286'}\n",
      "{'Headline': '\\n조선에서 적십자활동 활발\\xa0', 'ArticleID': 'AR0126284'}\n",
      "{'Headline': '\\n평양국제건강 및 의료기구부문 과학기술전시회 개막\\xa0\\xa0', 'ArticleID': 'AR0126283'}\n",
      "{'Headline': '\\n사회적진보와 발전을 위하여', 'ArticleID': 'AR0126311'}\n",
      "{'Headline': '\\n남조선단체들 민족분렬을 끝장내기 위한 투쟁에 나설것을 호소', 'ArticleID': 'AR0126309'}\n",
      "{'Headline': '\\n김일성동지와 김정일동지의 동상을 찾아 재일조선고급학교 학생조국방문단들 경모의 정 표시', 'ArticleID': 'AR0126193'}\n",
      "{'Headline': '\\n김일성동지와 김정일동지의 동상을 찾아 재일동포조국방문단 경모의 정 표시', 'ArticleID': 'AR0126164'}\n",
      "{'Headline': '\\n총련의 방문단들 도착', 'ArticleID': 'AR0126162'}\n",
      "{'Headline': '\\n국제고려인통일련합회 잡지 《통일》 2019년 4-5월호 발행', 'ArticleID': 'AR0126154'}\n",
      "{'Headline': '\\n재일조선고급학교 학생조국방문단이 떠나갔다', 'ArticleID': 'AR0126153'}\n",
      "{'Headline': '\\n세계급혈자의 날에 즈음한 행사 진행\\xa0\\xa0', 'ArticleID': 'AR0126159'}\n",
      "{'Headline': '\\n조선에서 적십자활동 활발\\xa0', 'ArticleID': 'AR0126284'}\n",
      "{'Headline': '\\n평양국제건강 및 의료기구부문 과학기술전시회 개막\\xa0\\xa0', 'ArticleID': 'AR0126283'}\n",
      "{'Headline': '\\n재능있는 건축인재들을 육성\\xa0', 'ArticleID': 'AR0126237'}\n"
     ]
    }
   ],
   "source": [
    "headlines=doc.find_all('h3')\n",
    "nks=[]\n",
    "for headline in headlines:\n",
    "    nk={}\n",
    "    nk['Headline']=headline.text\n",
    "    nk['ArticleID']= headline.find('a').attrs['onclick'][16:25]\n",
    "    print(nk)\n",
    "    nks.append(nk)"
   ]
  },
  {
   "cell_type": "code",
   "execution_count": 56,
   "metadata": {},
   "outputs": [
    {
     "data": {
      "text/html": [
       "<div>\n",
       "<style scoped>\n",
       "    .dataframe tbody tr th:only-of-type {\n",
       "        vertical-align: middle;\n",
       "    }\n",
       "\n",
       "    .dataframe tbody tr th {\n",
       "        vertical-align: top;\n",
       "    }\n",
       "\n",
       "    .dataframe thead th {\n",
       "        text-align: right;\n",
       "    }\n",
       "</style>\n",
       "<table border=\"1\" class=\"dataframe\">\n",
       "  <thead>\n",
       "    <tr style=\"text-align: right;\">\n",
       "      <th></th>\n",
       "      <th>ArticleID</th>\n",
       "      <th>Headline</th>\n",
       "    </tr>\n",
       "  </thead>\n",
       "  <tbody>\n",
       "    <tr>\n",
       "      <th>0</th>\n",
       "      <td>AR0126135</td>\n",
       "      <td>\\n김정은동지께서 김대중 전 대통령의 부인 리희호녀사의 유가족들에게 조의문을 보내시였다</td>\n",
       "    </tr>\n",
       "    <tr>\n",
       "      <th>1</th>\n",
       "      <td>AR0126133</td>\n",
       "      <td>\\n경애하는 최고령도자 김정은동지께서 김대중 전 대통령의 부인 리희호녀사의 유가족들...</td>\n",
       "    </tr>\n",
       "    <tr>\n",
       "      <th>2</th>\n",
       "      <td>AR0126098</td>\n",
       "      <td>\\n김정은동지께서 로씨야대통령에게 축전을 보내시였다</td>\n",
       "    </tr>\n",
       "    <tr>\n",
       "      <th>3</th>\n",
       "      <td>AR0125885</td>\n",
       "      <td>\\n경애하는 최고령도자 김정은동지께서 조선인민군 제2기 제7차 군인가족예술소조경연에...</td>\n",
       "    </tr>\n",
       "    <tr>\n",
       "      <th>4</th>\n",
       "      <td>AR0125876</td>\n",
       "      <td>\\n김정은동지께서 꾸바공산당 중앙위원회 제1비서에게 축전을 보내시였다</td>\n",
       "    </tr>\n",
       "  </tbody>\n",
       "</table>\n",
       "</div>"
      ],
      "text/plain": [
       "   ArticleID                                           Headline\n",
       "0  AR0126135   \\n김정은동지께서 김대중 전 대통령의 부인 리희호녀사의 유가족들에게 조의문을 보내시였다\n",
       "1  AR0126133  \\n경애하는 최고령도자 김정은동지께서 김대중 전 대통령의 부인 리희호녀사의 유가족들...\n",
       "2  AR0126098                       \\n김정은동지께서 로씨야대통령에게 축전을 보내시였다\n",
       "3  AR0125885  \\n경애하는 최고령도자 김정은동지께서 조선인민군 제2기 제7차 군인가족예술소조경연에...\n",
       "4  AR0125876             \\n김정은동지께서 꾸바공산당 중앙위원회 제1비서에게 축전을 보내시였다"
      ]
     },
     "execution_count": 56,
     "metadata": {},
     "output_type": "execute_result"
    }
   ],
   "source": [
    "import pandas as pd\n",
    "df=pd.DataFrame(nks)\n",
    "df.head()"
   ]
  },
  {
   "cell_type": "code",
   "execution_count": 58,
   "metadata": {},
   "outputs": [],
   "source": [
    "df.to_csv('rock-clubs.csv',index=False)"
   ]
  },
  {
   "cell_type": "code",
   "execution_count": null,
   "metadata": {},
   "outputs": [],
   "source": []
  }
 ],
 "metadata": {
  "kernelspec": {
   "display_name": "Python 3",
   "language": "python",
   "name": "python3"
  },
  "language_info": {
   "codemirror_mode": {
    "name": "ipython",
    "version": 3
   },
   "file_extension": ".py",
   "mimetype": "text/x-python",
   "name": "python",
   "nbconvert_exporter": "python",
   "pygments_lexer": "ipython3",
   "version": "3.6.5"
  }
 },
 "nbformat": 4,
 "nbformat_minor": 2
}
