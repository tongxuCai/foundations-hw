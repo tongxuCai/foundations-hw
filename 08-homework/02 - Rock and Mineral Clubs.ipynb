{
 "cells": [
  {
   "cell_type": "markdown",
   "metadata": {},
   "source": [
    "# Rock and Mineral Clubs\n",
    "\n",
    "Scrape all of the rock and mineral clubs listed at https://rocktumbler.com/blog/rock-and-mineral-clubs/ (but don't just cut and paste!)\n",
    "\n",
    "Save a CSV called `rock-clubs.csv` with the name of the club, their URL, and the city they're located in.\n",
    "\n",
    "**Bonus**: Add a column for the state. There are a few ways to do this, but knowing that `element.parent` goes 'up' one element might be helpful.\n",
    "\n",
    "* _**Hint:** The name of the club and the city are both inside of td elements, and they aren't distinguishable by class. Instead you'll just want to ask for all of the tds and then just ask for the text from the first or second one._\n",
    "* _**Hint:** If you use BeautifulSoup, you can select elements by attributes other than class or id._"
   ]
  },
  {
   "cell_type": "code",
   "execution_count": 1,
   "metadata": {},
   "outputs": [],
   "source": [
    "import requests\n",
    "from bs4 import BeautifulSoup \n",
    "response=requests.get('https://rocktumbler.com/blog/rock-and-mineral-clubs/')\n",
    "doc=BeautifulSoup(response.text)"
   ]
  },
  {
   "cell_type": "code",
   "execution_count": 2,
   "metadata": {
    "scrolled": false
   },
   "outputs": [
    {
     "name": "stdout",
     "output_type": "stream",
     "text": [
      "Alabama Rock and Mineral Clubs\n",
      "Alaska Rock and Mineral Clubs\n",
      "Arizona Rock and Mineral Clubs\n",
      "Arkansas Rock and Mineral Clubs\n",
      "California Rock and Mineral Clubs\n",
      "Colorado Rock and Mineral Clubs\n",
      "Connecticut Rock and Mineral Clubs\n",
      "Delaware Rock and Mineral Clubs\n",
      "Florida Rock and Mineral Clubs\n",
      "Georgia Rock and Mineral Clubs\n",
      "Hawaii Rock and Mineral Clubs\n",
      "Idaho Rock and Mineral Clubs\n",
      "Illinois Rock and Mineral Clubs\n",
      "Indiana Rock and Mineral Clubs\n",
      "Iowa Rock and Mineral Clubs\n",
      "Kansas Rock and Mineral Clubs\n",
      "Kentucky Rock and Mineral Clubs\n",
      "Louisiana Rock and Mineral Clubs\n",
      "Maine Rock and Mineral Clubs\n",
      "Maryland Rock and Mineral Clubs\n",
      "Massachusetts Rock and Mineral Clubs\n",
      "Michigan Rock and Mineral Clubs\n",
      "Minnesota Rock and Mineral Clubs\n",
      "Mississippi Rock and Mineral Clubs\n",
      "Missouri Rock and Mineral Clubs\n",
      "Montana Rock and Mineral Clubs\n",
      "Nebraska Rock and Mineral Clubs\n",
      "Nevada Rock and Mineral Clubs\n",
      "New Hampshire Rock and Mineral Clubs\n",
      "New Jersey Rock and Mineral Clubs\n",
      "New Mexico Rock and Mineral Clubs\n",
      "New York Rock and Mineral Clubs\n",
      "North Carolina Rock and Mineral Clubs\n",
      "North Dakota Rock and Mineral Clubs\n",
      "Ohio Rock and Mineral Clubs\n",
      "Oklahoma Rock and Mineral Clubs\n",
      "Oregon Rock and Mineral Clubs\n",
      "Pennsylvania Rock and Mineral Clubs\n",
      "Rhode Island Rock and Mineral Clubs\n",
      "South Carolina Rock and Mineral Clubs\n",
      "South Dakota Rock and Mineral Clubs\n",
      "Tennessee Rock and Mineral Clubs\n",
      "Texas Rock and Mineral Clubs\n",
      "Utah Rock and Mineral Clubs\n",
      "Vermont Rock and Mineral Clubs\n",
      "Virginia Rock and Mineral Clubs\n",
      "Washington Rock and Mineral Clubs\n",
      "West Virginia Rock and Mineral Clubs\n",
      "Wisconsin Rock and Mineral Clubs\n",
      "Wyoming Rock and Mineral Clubs\n",
      "Article Authored by\n",
      "Images, text and code on this website are copyright by RockTumbler.com.  All other use is prohibited.\n"
     ]
    }
   ],
   "source": [
    "clubs=doc.find_all('h3')\n",
    "for club in clubs:\n",
    "    print(club.text)"
   ]
  },
  {
   "cell_type": "code",
   "execution_count": 61,
   "metadata": {},
   "outputs": [],
   "source": [
    "CLUBS = [club.text for club in clubs]"
   ]
  },
  {
   "cell_type": "code",
   "execution_count": null,
   "metadata": {},
   "outputs": [],
   "source": [
    "links = doc.select('a[href]')"
   ]
  },
  {
   "cell_type": "code",
   "execution_count": 35,
   "metadata": {},
   "outputs": [],
   "source": [
    "LINKS=[]\n",
    "for link in links:\n",
    "    LINKS.append(link.attrs['href'])"
   ]
  },
  {
   "cell_type": "code",
   "execution_count": 42,
   "metadata": {},
   "outputs": [],
   "source": [
    "cities=doc.find_all('td', attrs={'width':\"40%\"})"
   ]
  },
  {
   "cell_type": "code",
   "execution_count": 60,
   "metadata": {},
   "outputs": [],
   "source": [
    "CITIES =[city.text for city in cities]"
   ]
  },
  {
   "cell_type": "code",
   "execution_count": 69,
   "metadata": {
    "scrolled": true
   },
   "outputs": [
    {
     "ename": "SyntaxError",
     "evalue": "invalid syntax (<ipython-input-69-8074b3061983>, line 6)",
     "output_type": "error",
     "traceback": [
      "\u001b[0;36m  File \u001b[0;32m\"<ipython-input-69-8074b3061983>\"\u001b[0;36m, line \u001b[0;32m6\u001b[0m\n\u001b[0;31m    CLUB['Link']=\u001b[0m\n\u001b[0m                 ^\u001b[0m\n\u001b[0;31mSyntaxError\u001b[0m\u001b[0;31m:\u001b[0m invalid syntax\n"
     ]
    }
   ],
   "source": [
    "clubs=doc.find_all('h3')\n",
    "CLUBS=[]\n",
    "for club in clubs:\n",
    "    CLUB={}\n",
    "    CLUB['Name']=club.text\n",
    "    CLUB['Link']=\n",
    "    CLUB['City']=[city.text for city in cities]\n",
    "    CLUBS.append(CLUB)"
   ]
  },
  {
   "cell_type": "code",
   "execution_count": 70,
   "metadata": {
    "scrolled": true
   },
   "outputs": [
    {
     "data": {
      "text/html": [
       "<div>\n",
       "<style scoped>\n",
       "    .dataframe tbody tr th:only-of-type {\n",
       "        vertical-align: middle;\n",
       "    }\n",
       "\n",
       "    .dataframe tbody tr th {\n",
       "        vertical-align: top;\n",
       "    }\n",
       "\n",
       "    .dataframe thead th {\n",
       "        text-align: right;\n",
       "    }\n",
       "</style>\n",
       "<table border=\"1\" class=\"dataframe\">\n",
       "  <thead>\n",
       "    <tr style=\"text-align: right;\">\n",
       "      <th></th>\n",
       "      <th>city</th>\n",
       "      <th>link</th>\n",
       "      <th>Name</th>\n",
       "    </tr>\n",
       "  </thead>\n",
       "  <tbody>\n",
       "    <tr>\n",
       "      <th>0</th>\n",
       "      <td>Birmingham</td>\n",
       "      <td>https://rocktumbler.com/</td>\n",
       "      <td>Alabama Rock and Mineral Clubs</td>\n",
       "    </tr>\n",
       "    <tr>\n",
       "      <th>1</th>\n",
       "      <td>Dothan</td>\n",
       "      <td>https://www.shopperapproved.com/reviews/RockTu...</td>\n",
       "      <td>Alaska Rock and Mineral Clubs</td>\n",
       "    </tr>\n",
       "    <tr>\n",
       "      <th>2</th>\n",
       "      <td>Huntsville</td>\n",
       "      <td>https://rocktumbler.com/</td>\n",
       "      <td>Arizona Rock and Mineral Clubs</td>\n",
       "    </tr>\n",
       "    <tr>\n",
       "      <th>3</th>\n",
       "      <td>Mobile</td>\n",
       "      <td>https://rocktumbler.com/questions.shtml</td>\n",
       "      <td>Arkansas Rock and Mineral Clubs</td>\n",
       "    </tr>\n",
       "    <tr>\n",
       "      <th>4</th>\n",
       "      <td>Montgomery</td>\n",
       "      <td>https://rocktumbler.com/compare-rock-tumblers....</td>\n",
       "      <td>California Rock and Mineral Clubs</td>\n",
       "    </tr>\n",
       "  </tbody>\n",
       "</table>\n",
       "</div>"
      ],
      "text/plain": [
       "         city                                               link  \\\n",
       "0  Birmingham                           https://rocktumbler.com/   \n",
       "1      Dothan  https://www.shopperapproved.com/reviews/RockTu...   \n",
       "2  Huntsville                           https://rocktumbler.com/   \n",
       "3      Mobile            https://rocktumbler.com/questions.shtml   \n",
       "4  Montgomery  https://rocktumbler.com/compare-rock-tumblers....   \n",
       "\n",
       "                                Name  \n",
       "0     Alabama Rock and Mineral Clubs  \n",
       "1      Alaska Rock and Mineral Clubs  \n",
       "2     Arizona Rock and Mineral Clubs  \n",
       "3    Arkansas Rock and Mineral Clubs  \n",
       "4  California Rock and Mineral Clubs  "
      ]
     },
     "execution_count": 70,
     "metadata": {},
     "output_type": "execute_result"
    }
   ],
   "source": [
    "import pandas as pd\n",
    "df=pd.DataFrame(list(zip(CITIES,LINKS,CLUBS)),\n",
    "                     columns=['city','link','Name'])\n",
    "df.head()"
   ]
  },
  {
   "cell_type": "code",
   "execution_count": 72,
   "metadata": {},
   "outputs": [],
   "source": [
    "df.to_csv('rock-clubs.csv',index=False)"
   ]
  },
  {
   "cell_type": "code",
   "execution_count": null,
   "metadata": {},
   "outputs": [],
   "source": []
  }
 ],
 "metadata": {
  "kernelspec": {
   "display_name": "Python 3",
   "language": "python",
   "name": "python3"
  },
  "language_info": {
   "codemirror_mode": {
    "name": "ipython",
    "version": 3
   },
   "file_extension": ".py",
   "mimetype": "text/x-python",
   "name": "python",
   "nbconvert_exporter": "python",
   "pygments_lexer": "ipython3",
   "version": "3.6.5"
  }
 },
 "nbformat": 4,
 "nbformat_minor": 2
}
